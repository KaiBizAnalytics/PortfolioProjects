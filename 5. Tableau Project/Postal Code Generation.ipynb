{
 "cells": [
  {
   "cell_type": "code",
   "execution_count": null,
   "id": "a04ec0e6",
   "metadata": {},
   "outputs": [],
   "source": [
    "pip install pandas googlemaps openpyxl tqdm"
   ]
  },
  {
   "cell_type": "code",
   "execution_count": null,
   "id": "93e4d70d",
   "metadata": {},
   "outputs": [],
   "source": [
    "import pandas as pd\n",
    "import googlemaps\n",
    "from datetime import datetime\n",
    "from tqdm import tqdm\n",
    "tqdm.pandas()  # Enables progress_apply for pandas"
   ]
  },
  {
   "cell_type": "code",
   "execution_count": null,
   "id": "43e4bb57",
   "metadata": {},
   "outputs": [],
   "source": [
    "# Read API key from the file\n",
    "with open('GMapAPI.txt', 'r') as file:\n",
    "    api_key = file.read().strip()\n",
    "    \n",
    "# Load data from the Excel file\n",
    "df = pd.read_excel('Tableau Project Data.xlsx', sheet_name='listings')\n",
    "\n",
    "# Initialize Google Maps client\n",
    "gmaps = googlemaps.Client(key=api_key)\n",
    "\n",
    "# Add 'Country' and 'Province' columns\n",
    "df['Country'] = 'Canada'\n",
    "df['Province'] = 'BC'"
   ]
  },
  {
   "cell_type": "code",
   "execution_count": null,
   "id": "f740f6dd",
   "metadata": {},
   "outputs": [],
   "source": [
    "# Function to retrieve postal code from coordinates\n",
    "def get_postal_code(lat, lon):\n",
    "    try:\n",
    "        reverse_geocode_result = gmaps.reverse_geocode((lat, lon))\n",
    "        for component in reverse_geocode_result[0]['address_components']:\n",
    "            if 'postal_code' in component['types']:\n",
    "                return component['long_name']\n",
    "    except Exception as e:\n",
    "        print(f\"Error during reverse geocoding: {e}\")\n",
    "        return \"Not Found\"  # Returns 'Not Found' if postal code is not available"
   ]
  },
  {
   "cell_type": "code",
   "execution_count": null,
   "id": "82762a13",
   "metadata": {},
   "outputs": [],
   "source": [
    "# Apply function to dataframe with progress bar\n",
    "df['Postal Code'] = df.progress_apply(lambda row: get_postal_code(row['latitude'], row['longitude']), axis=1)"
   ]
  },
  {
   "cell_type": "code",
   "execution_count": null,
   "id": "045c2f57",
   "metadata": {},
   "outputs": [],
   "source": [
    "na_postal_codes_count = df['Postal Code'].isna().sum()\n",
    "print(f\"Number of rows with NA postal code: {na_postal_codes_count}\")"
   ]
  },
  {
   "cell_type": "code",
   "execution_count": null,
   "id": "8b82f54a",
   "metadata": {},
   "outputs": [],
   "source": [
    "# Save the modified dataframe back to Excel\n",
    "df.to_excel('Updated_Tableau_Project_Data.xlsx', index=False)"
   ]
  }
 ],
 "metadata": {
  "kernelspec": {
   "display_name": "Python 3 (ipykernel)",
   "language": "python",
   "name": "python3"
  },
  "language_info": {
   "codemirror_mode": {
    "name": "ipython",
    "version": 3
   },
   "file_extension": ".py",
   "mimetype": "text/x-python",
   "name": "python",
   "nbconvert_exporter": "python",
   "pygments_lexer": "ipython3",
   "version": "3.9.12"
  }
 },
 "nbformat": 4,
 "nbformat_minor": 5
}
